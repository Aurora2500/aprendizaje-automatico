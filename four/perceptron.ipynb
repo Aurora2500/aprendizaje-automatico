{
 "cells": [
  {
   "attachments": {},
   "cell_type": "markdown",
   "metadata": {},
   "source": [
    "# Practica uno\n",
    "\n",
    "Grupo 14:\n",
    "* Joaquín Ibáñez Penalva\n",
    "* Aurora Zuoris\n",
    "\n",
    "Para la realización de esta práctica se usará la librería de numpy, pandas, matplotlib, y sklearn."
   ]
  },
  {
   "cell_type": "code",
   "execution_count": null,
   "metadata": {},
   "outputs": [],
   "source": [
    "import numpy as np\n",
    "import pandas as pd\n",
    "import matplotlib.pyplot as plt\n",
    "\n",
    "from sklearn.linear_model import Perceptron\n",
    "from sklearn.model_selection import train_test_split\n",
    "from sklearn import datasets"
   ]
  },
  {
   "cell_type": "code",
   "execution_count": null,
   "metadata": {},
   "outputs": [],
   "source": [
    "df = pd.read_csv('iris_pca_2d.csv')\n",
    "\n",
    "df.head()"
   ]
  },
  {
   "attachments": {},
   "cell_type": "markdown",
   "metadata": {},
   "source": [
    "# Ejercicio 1"
   ]
  },
  {
   "attachments": {},
   "cell_type": "markdown",
   "metadata": {},
   "source": [
    "Ejercicio 2"
   ]
  },
  {
   "cell_type": "code",
   "execution_count": null,
   "metadata": {},
   "outputs": [],
   "source": [
    "X,y = datasets.make_blobs(n_samples=100,\n",
    "n_features=2,\n",
    "centers=[[0,0], [2,2], [2,0]],\n",
    "cluster_std=0.6,\n",
    "random_state=123)\n",
    "\n",
    "X_train, X_test, y_train, y_test = train_test_split(X, y, test_size=0.3, random_state=123) # Dividimos los datos en train y test\n",
    "\n",
    "clf = Perceptron(random_state=123) # Creamos el clasificador\n",
    "clf.fit(X_train, y_train) # Entrenamos el clasificador\n",
    "\n",
    "y_pred = clf.decision_function(X_test) # Obtenemos las predicciones\n",
    "\n",
    "y_pred = np.argmax(y_pred, axis=1) # Obtenemos la clase con mayor probabilidad\n",
    "\n",
    "print(y_test) # Imprimimos las clases reales\n",
    "print(y_pred) # Imprimimos las clases predichas\n",
    "\n",
    "print(np.sum(y_test == y_pred) / len(y_test)) # Imprimimos la precisión\n",
    "clf.score(X_test, y_test) # Otra forma de calcular la precisión\n",
    "\n"
   ]
  }
 ],
 "metadata": {
  "kernelspec": {
   "display_name": "Python 3",
   "language": "python",
   "name": "python3"
  },
  "language_info": {
   "codemirror_mode": {
    "name": "ipython",
    "version": 3
   },
   "file_extension": ".py",
   "mimetype": "text/x-python",
   "name": "python",
   "nbconvert_exporter": "python",
   "pygments_lexer": "ipython3",
   "version": "3.10.9"
  },
  "vscode": {
   "interpreter": {
    "hash": "8c900cb90dee983911779de55d7a1efccb46f16c81cdf15a7b8ee95d3de3d3b1"
   }
  }
 },
 "nbformat": 4,
 "nbformat_minor": 2
}
