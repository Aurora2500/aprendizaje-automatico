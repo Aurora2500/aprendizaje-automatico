{
 "cells": [
  {
   "cell_type": "markdown",
   "metadata": {},
   "source": [
    "# Practica uno\n",
    "\n",
    "Para la realización de esta práctica solo se usará la librería de numpy."
   ]
  },
  {
   "cell_type": "code",
   "execution_count": 24,
   "metadata": {},
   "outputs": [],
   "source": [
    "import numpy as np"
   ]
  },
  {
   "cell_type": "markdown",
   "metadata": {},
   "source": [
    "## Ejercicio 1\n",
    "\n"
   ]
  },
  {
   "cell_type": "code",
   "execution_count": 22,
   "metadata": {},
   "outputs": [],
   "source": [
    "class CodificadorEtiqueta:\n",
    "\tdef __init__(self):\n",
    "\t\tself.codificacion = None\n",
    "\t\tself.decodificacion = None\n",
    "\n",
    "\tdef inicializar(self, y: list):\n",
    "\t\tvalores_unicos = np.unique(y)\n",
    "\t\tself.codificacion={valor: i for i, valor in enumerate(valores_unicos)}\n",
    "\t\tself.decodificacion={i: valor for i, valor in enumerate(valores_unicos)}\n",
    "\t\tprint(self.codificacion)\n",
    "\t\tprint(self.decodificacion)\n",
    "\n",
    "\tdef codificar(self, y: list):\n",
    "\t\treturn [self.codificacion[valor] for valor in y]\n",
    "\n",
    "\tdef decodificar(self, y: list):\n",
    "\t\treturn [self.decodificacion[valor] for valor in y]"
   ]
  },
  {
   "cell_type": "code",
   "execution_count": 33,
   "metadata": {},
   "outputs": [
    {
     "name": "stdout",
     "output_type": "stream",
     "text": [
      "{'a': 0, 'b': 1, 'c': 2}\n",
      "{0: 'a', 1: 'b', 2: 'c'}\n"
     ]
    }
   ],
   "source": [
    "codificador = CodificadorEtiqueta()\n",
    "codificador.inicializar(['a', 'b', 'c', 'a'])"
   ]
  },
  {
   "cell_type": "code",
   "execution_count": 36,
   "metadata": {},
   "outputs": [
    {
     "data": {
      "text/plain": [
       "['a', 'b', 'c', 'a', 'c', 'c', 'c', 'b', 'a', 'a']"
      ]
     },
     "execution_count": 36,
     "metadata": {},
     "output_type": "execute_result"
    }
   ],
   "source": [
    "codificador.codificar(['a', 'b', 'c', 'a'])\n",
    "codificador.decodificar([0, 1, 2, 0, 2, 2, 2, 1, 0, 0])"
   ]
  },
  {
   "cell_type": "markdown",
   "metadata": {},
   "source": [
    "## Ejercicio 2"
   ]
  },
  {
   "cell_type": "markdown",
   "metadata": {},
   "source": [
    "## Ejercicio 3"
   ]
  }
 ],
 "metadata": {
  "kernelspec": {
   "display_name": "aa1",
   "language": "python",
   "name": "python3"
  },
  "language_info": {
   "codemirror_mode": {
    "name": "ipython",
    "version": 3
   },
   "file_extension": ".py",
   "mimetype": "text/x-python",
   "name": "python",
   "nbconvert_exporter": "python",
   "pygments_lexer": "ipython3",
   "version": "3.10.9"
  },
  "orig_nbformat": 4,
  "vscode": {
   "interpreter": {
    "hash": "26c311463b1f0e6ae574b2b9e7da07fe30118d1f71ff80eae0eaefa8fa6bf39d"
   }
  }
 },
 "nbformat": 4,
 "nbformat_minor": 2
}
