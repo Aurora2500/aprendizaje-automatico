{
 "cells": [
  {
   "cell_type": "markdown",
   "metadata": {},
   "source": [
    "# Practica uno\n",
    "\n",
    "Grupo 14:\n",
    "* Joaquín Ibáñez Penalva\n",
    "* Aurora Zuoris\n",
    "\n",
    "Para la realización de esta práctica solo se usará la librería de numpy."
   ]
  },
  {
   "cell_type": "code",
   "execution_count": null,
   "metadata": {},
   "outputs": [],
   "source": [
    "import numpy as np"
   ]
  },
  {
   "cell_type": "markdown",
   "metadata": {},
   "source": [
    "## Ejercicio 1\n",
    "\n"
   ]
  },
  {
   "cell_type": "code",
   "execution_count": null,
   "metadata": {},
   "outputs": [],
   "source": [
    "class CodificadorEtiqueta:\n",
    "\tdef __init__(self):\n",
    "\t\tself.codificacion = None\n",
    "\t\tself.decodificacion = None\n",
    "\n",
    "\tdef inicializar(self, y: list):\n",
    "\t\tif not isinstance(y, list):\n",
    "\t\t\traise TypeError(\"La entrada debe ser una lista\")\n",
    "\n",
    "\t\tvalores_unicos = np.unique(y) #Conjunto de valores únicos\n",
    "\t\tself.codificacion={valor: i for i, valor in enumerate(valores_unicos)} #Diccionario de codificación\n",
    "\t\tself.decodificacion={i: valor for i, valor in enumerate(valores_unicos)} #Diccionario de decodificación\n",
    "\n",
    "\tdef codificar(self, y: list):\n",
    "\t\ttry:\n",
    "\t\t\treturn [self.codificacion[valor] for valor in y] #Codifica los valores de y\n",
    "\t\texcept KeyError as e:\n",
    "\t\t\traise KeyError('Etiqueta no reconocida: ', e)\n",
    "\n",
    "\tdef decodificar(self, y: list):\n",
    "\t\ttry:\n",
    "\t\t\treturn [self.decodificacion[valor] for valor in y] #Decodifica los valores de y\n",
    "\t\texcept KeyError as e:\n",
    "\t\t\traise KeyError('Valor no tiene ninguna etiqueta asociada: ', e)"
   ]
  },
  {
   "cell_type": "code",
   "execution_count": null,
   "metadata": {},
   "outputs": [],
   "source": [
    "codificador = CodificadorEtiqueta() #Instancia de la clase CodificadorEtiqueta\n",
    "codificador.inicializar(['a', 'b', 'c', 'a'])"
   ]
  },
  {
   "cell_type": "code",
   "execution_count": null,
   "metadata": {},
   "outputs": [],
   "source": [
    "codificador.codificar(['a', 'b', 'c', 'a'])\n",
    "codificador.decodificar([0, 1, 2, 0, 2, 2, 2, 1, 0, 0])\n",
    "try:\n",
    "    codificador.codificar(\"juan\")\n",
    "except KeyError as e:\n",
    "    print(e)\n",
    "try:\n",
    "    codificador.decodificar([7,7,7,7])\n",
    "except KeyError as e:\n",
    "    print(e)"
   ]
  },
  {
   "cell_type": "markdown",
   "metadata": {},
   "source": [
    "## Ejercicio 2"
   ]
  },
  {
   "cell_type": "code",
   "execution_count": null,
   "metadata": {},
   "outputs": [],
   "source": [
    "class EscalarValores:\n",
    "\tdef __init__(self):\n",
    "\t\tself.max = None\n",
    "\t\tself.min = None\n",
    "\t\tself.x_max = None\n",
    "\t\tself.x_min = None\n",
    "\t\n",
    "\tdef inicializar(self, x: np.ndarray, min: float=-1.0, max: float=1) -> None:\n",
    "\t\t\"\"\"\n",
    "\t\tInicializa el escalador con los valores máximos y mínimos de los datos\n",
    "\n",
    "\t\tPara el máximo y mínimo, basta con guardar un número para ambos.\n",
    "\t\tPero para los valores máximos y mínimos de los datos, estos se guardan como vectores fila,\n",
    "\t\tdonde cada elemento del vector es el máximo o mínimo de cada columna de los datos.\n",
    "\t\t\"\"\"\n",
    "\t\tself.max = max\n",
    "\t\tself.min = min\n",
    "\t\tself.x_max = np.max(x, axis=0)\n",
    "\t\tself.x_min = np.min(x, axis=0)\n",
    "\n",
    "\tdef escalar(self, x: np.ndarray) -> np.ndarray:\n",
    "\t\tif (self.x_max is None or self.x_min is None or self.max is None or self.min is None):\n",
    "\t\t\traise Exception(\"No se ha inicializado el escalador\")\n",
    "\t\tdata_maxs = np.max(x, axis=0)\n",
    "\t\tdata_mins = np.min(x, axis=0)\n",
    "\t\tif (np.any(data_maxs > self.x_max) or np.any(data_mins < self.x_min)):\n",
    "\t\t\traise Exception(\"Valores fuera de rango\")\n",
    "\t\tmax, min, x_max, x_min = self.max, self.min, self.x_max, self.x_min\n",
    "\t\treturn (max -min) * x / (x_max - x_min) + (min * x_max -max * x_min) / (x_max - x_min)\n",
    "\n",
    "\tdef escalar_inv(self, x: np.ndarray) -> np.ndarray:\n",
    "\t\tif (self.x_max is None or self.x_min is None or self.max is None or self.min is None):\n",
    "\t\t\traise Exception(\"No se ha inicializado el escalador\")\n",
    "\t\tif(np.any(x > self.max) or np.any(x < self.min)):\n",
    "\t\t\traise Exception(\"Valores fuera de rango\")\n",
    "\t\tmax, min, x_max, x_min = self.max, self.min, self.x_max, self.x_min\n",
    "\t\treturn (x_max - x_min) * x / (max - min) + (x_min * max - x_max * min) / (max - min)"
   ]
  },
  {
   "cell_type": "code",
   "execution_count": null,
   "metadata": {},
   "outputs": [],
   "source": [
    "xs = np.array([\n",
    "\t[0, 10],\n",
    "\t[1, 20]\n",
    "])\n",
    "\n",
    "m = EscalarValores()\n",
    "\n",
    "try:\n",
    "\tm.escalar(xs)\n",
    "except Exception as e:\n",
    "\tprint(e)\n",
    "\n",
    "m.inicializar(xs)\n",
    "print(m.escalar(xs))\n",
    "print(m.escalar(np.array([[0.5, 15], [0.7, 12]])))\n",
    "print(m.escalar_inv(m.escalar(xs)))\n",
    "\n",
    "try:\n",
    "\tm.escalar(np.array([[1.2, 21]]))\n",
    "except Exception as e:\n",
    "\tprint(e)"
   ]
  },
  {
   "cell_type": "markdown",
   "metadata": {},
   "source": [
    "## Ejercicio 3"
   ]
  },
  {
   "cell_type": "code",
   "execution_count": null,
   "metadata": {},
   "outputs": [],
   "source": [
    "def divide_entrenamiento_test(\n",
    "\tx: np.ndarray,\n",
    "\ty: np.ndarray | None=None,\n",
    "\ttam_train: float=0.7,\n",
    "\tsemilla: int | None=None,\n",
    "\tmezclar: bool=True\n",
    ") -> list:\n",
    "\ttotal_size = x.shape[0]\n",
    "\tif (y is not None and total_size != y.shape[0]):\n",
    "\t\traise Exception(\"Las dimensiones de x e y no coinciden\")\n",
    "\tif (tam_train <= 0 or tam_train >= 1):\n",
    "\t\traise Exception(\"El tamaño de entrenamiento debe estar entre 0 y 1\")\n",
    "\thas_y = y is not None\n",
    "\ttrain_size = int(total_size * tam_train)\n",
    "\ttransform_mat = x.copy()\n",
    "\tif(has_y):\n",
    "\t\t\"\"\"\n",
    "\t\tSe concatena la columna de y a la matriz de datos.\n",
    "\t\tDe esta forma, se pueden mezclar los datos y las etiquetas sin perder la correspondencia.\n",
    "\t\t\"\"\"\n",
    "\t\ttransform_mat = np.hstack((x, np.array([y]).T))\n",
    "\tif(mezclar):\n",
    "\t\tnp.random.seed(semilla)\n",
    "\t\tnp.random.shuffle(transform_mat)\n",
    "\t\n",
    "\ttrain = transform_mat[:train_size]\n",
    "\ttest = transform_mat[train_size:]\n",
    "\tif(has_y):\n",
    "\t\treturn [train[:, :-1], test[:, :-1], train[:, -1], test[:, -1]]\n",
    "\telse:\n",
    "\t\treturn [train, test]\n"
   ]
  },
  {
   "cell_type": "code",
   "execution_count": null,
   "metadata": {},
   "outputs": [],
   "source": [
    "x = np.array([\n",
    "  [1, 2, 3],\n",
    "  [4, 5, 6],\n",
    "  [7, 8, 9],\n",
    "  [10, 11, 12],\n",
    "  [13, 14, 15],\n",
    "  [16, 17, 18],\n",
    "  [19, 20, 21],\n",
    "])\n",
    "\n",
    "y = np.array([10, 20, 30, 40, 50, 60, 70])\n",
    "\n",
    "xa, xb, ya, yb = divide_entrenamiento_test(x, y, 0.5, mezclar=True, semilla=42)\n",
    "\n",
    "print(xa)\n",
    "print()\n",
    "print(ya)\n",
    "print()\n",
    "print(xb)\n",
    "print()\n",
    "print(yb)"
   ]
  }
 ],
 "metadata": {
  "kernelspec": {
   "display_name": "aa1",
   "language": "python",
   "name": "python3"
  },
  "language_info": {
   "codemirror_mode": {
    "name": "ipython",
    "version": 3
   },
   "file_extension": ".py",
   "mimetype": "text/x-python",
   "name": "python",
   "nbconvert_exporter": "python",
   "pygments_lexer": "ipython3",
   "version": "3.10.9"
  },
  "vscode": {
   "interpreter": {
    "hash": "26c311463b1f0e6ae574b2b9e7da07fe30118d1f71ff80eae0eaefa8fa6bf39d"
   }
  }
 },
 "nbformat": 4,
 "nbformat_minor": 2
}
