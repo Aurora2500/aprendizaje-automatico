{
 "cells": [
  {
   "cell_type": "markdown",
   "metadata": {},
   "source": [
    "# Practica uno\n",
    "\n",
    "Grupo 14:\n",
    "* Joaquín Ibáñez Penalva\n",
    "* Aurora Zuoris\n",
    "\n",
    "Para la realización de esta práctica solo se usará la librería de numpy."
   ]
  },
  {
   "cell_type": "code",
   "execution_count": 1,
   "metadata": {},
   "outputs": [],
   "source": [
    "import numpy as np"
   ]
  },
  {
   "cell_type": "markdown",
   "metadata": {},
   "source": [
    "## Ejercicio 1\n",
    "\n"
   ]
  },
  {
   "cell_type": "code",
   "execution_count": 2,
   "metadata": {},
   "outputs": [],
   "source": [
    "class CodificadorEtiqueta:\n",
    "\tdef __init__(self):\n",
    "\t\tself.codificacion = None\n",
    "\t\tself.decodificacion = None\n",
    "\n",
    "\tdef inicializar(self, y: list):\n",
    "\t\tvalores_unicos = np.unique(y)\n",
    "\t\tself.codificacion={valor: i for i, valor in enumerate(valores_unicos)}\n",
    "\t\tself.decodificacion={i: valor for i, valor in enumerate(valores_unicos)}\n",
    "\t\tprint(self.codificacion)\n",
    "\t\tprint(self.decodificacion)\n",
    "\n",
    "\tdef codificar(self, y: list):\n",
    "\t\treturn [self.codificacion[valor] for valor in y]\n",
    "\n",
    "\tdef decodificar(self, y: list):\n",
    "\t\treturn [self.decodificacion[valor] for valor in y]"
   ]
  },
  {
   "cell_type": "code",
   "execution_count": 3,
   "metadata": {},
   "outputs": [
    {
     "name": "stdout",
     "output_type": "stream",
     "text": [
      "{'a': 0, 'b': 1, 'c': 2}\n",
      "{0: 'a', 1: 'b', 2: 'c'}\n"
     ]
    }
   ],
   "source": [
    "codificador = CodificadorEtiqueta()\n",
    "codificador.inicializar(['a', 'b', 'c', 'a'])"
   ]
  },
  {
   "cell_type": "code",
   "execution_count": 4,
   "metadata": {},
   "outputs": [
    {
     "data": {
      "text/plain": [
       "['a', 'b', 'c', 'a', 'c', 'c', 'c', 'b', 'a', 'a']"
      ]
     },
     "execution_count": 4,
     "metadata": {},
     "output_type": "execute_result"
    }
   ],
   "source": [
    "codificador.codificar(['a', 'b', 'c', 'a'])\n",
    "codificador.decodificar([0, 1, 2, 0, 2, 2, 2, 1, 0, 0])"
   ]
  },
  {
   "cell_type": "markdown",
   "metadata": {},
   "source": [
    "## Ejercicio 2"
   ]
  },
  {
   "cell_type": "code",
   "execution_count": 11,
   "metadata": {},
   "outputs": [],
   "source": [
    "class EscalarValores:\n",
    "\tdef __init__(self):\n",
    "\t\tself.max = None\n",
    "\t\tself.min = None\n",
    "\t\tself.x_max = None\n",
    "\t\tself.x_min = None\n",
    "\t\n",
    "\tdef inicializar(self, x: np.ndarray, min: float=-1.0, max: float=1) -> None:\n",
    "\t\tself.max = max\n",
    "\t\tself.min = min\n",
    "\t\tself.x_max = np.max(x, axis=0)\n",
    "\t\tself.x_min = np.min(x, axis=0)\n",
    "\n",
    "\tdef escalar(self, x: np.ndarray) -> np.ndarray:\n",
    "\t\tif (self.x_max is None or self.x_min is None or self.max is None or self.min is None):\n",
    "\t\t\traise Exception(\"No se ha inicializado el escalador\")\n",
    "\t\tdata_maxs = np.max(x, axis=0)\n",
    "\t\tdata_mins = np.min(x, axis=0)\n",
    "\t\tif (np.any(data_maxs > self.x_max) or np.any(data_mins < self.x_min)):\n",
    "\t\t\traise Exception(\"Valores fuera de rango\")\n",
    "\t\tmax, min, x_max, x_min = self.max, self.min, self.x_max, self.x_min\n",
    "\t\treturn (max -min) * x / (x_max - x_min) + (min * x_max -max * x_min) / (x_max - x_min)\n",
    "\n",
    "\tdef escalar_inv(self, x: np.ndarray) -> np.ndarray:\n",
    "\t\tif (self.x_max is None or self.x_min is None or self.max is None or self.min is None):\n",
    "\t\t\traise Exception(\"No se ha inicializado el escalador\")\n",
    "\t\tif(np.any(x > self.max) or np.any(x < self.min)):\n",
    "\t\t\traise Exception(\"Valores fuera de rango\")\n",
    "\t\tmax, min, x_max, x_min = self.max, self.min, self.x_max, self.x_min\n",
    "\t\treturn (x_max - x_min) * (x - min) / (max - min) + x_min"
   ]
  },
  {
   "cell_type": "code",
   "execution_count": 12,
   "metadata": {},
   "outputs": [
    {
     "name": "stdout",
     "output_type": "stream",
     "text": [
      "No se ha inicializado el escalador\n",
      "[[-1. -1.]\n",
      " [ 1.  1.]]\n",
      "[[ 0.   0. ]\n",
      " [ 0.4 -0.6]]\n",
      "[[ 0. 10.]\n",
      " [ 1. 20.]]\n",
      "Valores fuera de rango\n"
     ]
    }
   ],
   "source": [
    "xs = np.array([\n",
    "\t[0, 10],\n",
    "\t[1, 20]\n",
    "])\n",
    "\n",
    "m = EscalarValores()\n",
    "\n",
    "try:\n",
    "\tm.escalar(xs)\n",
    "except Exception as e:\n",
    "\tprint(e)\n",
    "\n",
    "m.inicializar(xs)\n",
    "print(m.escalar(xs))\n",
    "print(m.escalar(np.array([[0.5, 15], [0.7, 12]])))\n",
    "print(m.escalar_inv(m.escalar(xs)))\n",
    "\n",
    "try:\n",
    "\tm.escalar(np.array([[1.2, 21]]))\n",
    "except Exception as e:\n",
    "\tprint(e)"
   ]
  },
  {
   "cell_type": "markdown",
   "metadata": {},
   "source": [
    "## Ejercicio 3"
   ]
  },
  {
   "cell_type": "code",
   "execution_count": null,
   "metadata": {},
   "outputs": [],
   "source": [
    "def divide_entrenamiento_test(\n",
    "\tx: np.ndarray,\n",
    "\ty: np.ndarray | None=None,\n",
    "\ttam_train: float=0.7,\n",
    "\tsemilla: int | None=None,\n",
    "\tmezclar: bool=True\n",
    ") -> list:\n",
    "\ttotal_size = x.shape[0]\n",
    "\tif (y is not None and total_size != y.shape[0]):\n",
    "\t\traise Exception(\"Las dimensiones de x e y no coinciden\")\n",
    "\tif (tam_train <= 0 or tam_train >= 1):\n",
    "\t\traise Exception(\"El tamaño de entrenamiento debe estar entre 0 y 1\")\n",
    "\thas_y = y is not None\n",
    "\ttrain_size = int(total_size * tam_train)\n",
    "\ttransform_mat = x.copy()\n",
    "\tif(has_y):\n",
    "\t\ttransform_mat = np.hstack((x, np.array([y]).T))\n",
    "\tif(mezclar):\n",
    "\t\tnp.random.seed(semilla)\n",
    "\t\tnp.random.shuffle(transform_mat)\n",
    "\t\n",
    "\ttrain = transform_mat[:train_size]\n",
    "\ttest = transform_mat[train_size:]\n",
    "\tif(has_y):\n",
    "\t\treturn [train[:, :-1], test[:, :-1], train[:, -1], test[:, -1]]\n",
    "\telse:\n",
    "\t\treturn [train, test]\n"
   ]
  },
  {
   "cell_type": "code",
   "execution_count": null,
   "metadata": {},
   "outputs": [],
   "source": [
    "x = np.array([\n",
    "  [1, 2, 3],\n",
    "  [4, 5, 6],\n",
    "  [7, 8, 9],\n",
    "  [10, 11, 12],\n",
    "  [13, 14, 15],\n",
    "  [16, 17, 18],\n",
    "  [19, 20, 21],\n",
    "])\n",
    "\n",
    "y = np.array([10, 20, 30, 40, 50, 60, 70])\n",
    "\n",
    "xa, xb, ya, yb = divide_entrenamiento_test(x, y, 0.5, mezclar=True, semilla=42)\n",
    "\n",
    "print(xa)\n",
    "print()\n",
    "print(ya)\n",
    "print()\n",
    "print(xb)\n",
    "print()\n",
    "print(yb)"
   ]
  }
 ],
 "metadata": {
  "kernelspec": {
   "display_name": "Python 3.10.9 64-bit",
   "language": "python",
   "name": "python3"
  },
  "language_info": {
   "codemirror_mode": {
    "name": "ipython",
    "version": 3
   },
   "file_extension": ".py",
   "mimetype": "text/x-python",
   "name": "python",
   "nbconvert_exporter": "python",
   "pygments_lexer": "ipython3",
   "version": "3.10.9"
  },
  "vscode": {
   "interpreter": {
    "hash": "e7370f93d1d0cde622a1f8e1c04877d8463912d04d973331ad4851f04de6915a"
   }
  }
 },
 "nbformat": 4,
 "nbformat_minor": 2
}
