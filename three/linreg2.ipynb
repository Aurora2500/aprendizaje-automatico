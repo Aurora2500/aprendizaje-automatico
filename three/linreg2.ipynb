{
 "cells": [
  {
   "attachments": {},
   "cell_type": "markdown",
   "metadata": {},
   "source": [
    "# Práctica tres\n",
    "\n",
    "Grupo 14:\n",
    "* Joaquín Ibáñez Penalva\n",
    "* Aurora Zuoris\n",
    "\n",
    "Para la realización de esta práctica  se usará la librería de numpy, pandas, matplotlib y sklearn."
   ]
  },
  {
   "cell_type": "code",
   "execution_count": 1,
   "metadata": {},
   "outputs": [],
   "source": [
    "import numpy as np\n",
    "import pandas as pd\n",
    "import matplotlib.pyplot as plt\n",
    "\n",
    "import sklearn.linear_model as lm\n",
    "from sklearn.metrics import mean_squared_error, r2_score\n",
    "from sklearn.model_selection import train_test_split"
   ]
  },
  {
   "cell_type": "code",
   "execution_count": 2,
   "metadata": {},
   "outputs": [
    {
     "data": {
      "text/html": [
       "<div>\n",
       "<style scoped>\n",
       "    .dataframe tbody tr th:only-of-type {\n",
       "        vertical-align: middle;\n",
       "    }\n",
       "\n",
       "    .dataframe tbody tr th {\n",
       "        vertical-align: top;\n",
       "    }\n",
       "\n",
       "    .dataframe thead th {\n",
       "        text-align: right;\n",
       "    }\n",
       "</style>\n",
       "<table border=\"1\" class=\"dataframe\">\n",
       "  <thead>\n",
       "    <tr style=\"text-align: right;\">\n",
       "      <th></th>\n",
       "      <th>Mediana ingresos</th>\n",
       "      <th>Mediana antiguedad</th>\n",
       "      <th>Num. hab. promedio</th>\n",
       "      <th>Num. dorm. promedio</th>\n",
       "      <th>Poblacion</th>\n",
       "      <th>Ocup. promedio</th>\n",
       "      <th>Latitud</th>\n",
       "      <th>Longitud</th>\n",
       "      <th>Mediana precio</th>\n",
       "    </tr>\n",
       "  </thead>\n",
       "  <tbody>\n",
       "    <tr>\n",
       "      <th>0</th>\n",
       "      <td>8.3252</td>\n",
       "      <td>41.0</td>\n",
       "      <td>6.984127</td>\n",
       "      <td>1.023810</td>\n",
       "      <td>322.0</td>\n",
       "      <td>2.555556</td>\n",
       "      <td>37.88</td>\n",
       "      <td>-122.23</td>\n",
       "      <td>4.526</td>\n",
       "    </tr>\n",
       "    <tr>\n",
       "      <th>1</th>\n",
       "      <td>8.3014</td>\n",
       "      <td>21.0</td>\n",
       "      <td>6.238137</td>\n",
       "      <td>0.971880</td>\n",
       "      <td>2401.0</td>\n",
       "      <td>2.109842</td>\n",
       "      <td>37.86</td>\n",
       "      <td>-122.22</td>\n",
       "      <td>3.585</td>\n",
       "    </tr>\n",
       "    <tr>\n",
       "      <th>2</th>\n",
       "      <td>7.2574</td>\n",
       "      <td>52.0</td>\n",
       "      <td>8.288136</td>\n",
       "      <td>1.073446</td>\n",
       "      <td>496.0</td>\n",
       "      <td>2.802260</td>\n",
       "      <td>37.85</td>\n",
       "      <td>-122.24</td>\n",
       "      <td>3.521</td>\n",
       "    </tr>\n",
       "    <tr>\n",
       "      <th>3</th>\n",
       "      <td>5.6431</td>\n",
       "      <td>52.0</td>\n",
       "      <td>5.817352</td>\n",
       "      <td>1.073059</td>\n",
       "      <td>558.0</td>\n",
       "      <td>2.547945</td>\n",
       "      <td>37.85</td>\n",
       "      <td>-122.25</td>\n",
       "      <td>3.413</td>\n",
       "    </tr>\n",
       "    <tr>\n",
       "      <th>4</th>\n",
       "      <td>3.8462</td>\n",
       "      <td>52.0</td>\n",
       "      <td>6.281853</td>\n",
       "      <td>1.081081</td>\n",
       "      <td>565.0</td>\n",
       "      <td>2.181467</td>\n",
       "      <td>37.85</td>\n",
       "      <td>-122.25</td>\n",
       "      <td>3.422</td>\n",
       "    </tr>\n",
       "  </tbody>\n",
       "</table>\n",
       "</div>"
      ],
      "text/plain": [
       "   Mediana ingresos  Mediana antiguedad  Num. hab. promedio  \\\n",
       "0            8.3252                41.0            6.984127   \n",
       "1            8.3014                21.0            6.238137   \n",
       "2            7.2574                52.0            8.288136   \n",
       "3            5.6431                52.0            5.817352   \n",
       "4            3.8462                52.0            6.281853   \n",
       "\n",
       "   Num. dorm. promedio  Poblacion  Ocup. promedio  Latitud  Longitud  \\\n",
       "0             1.023810      322.0        2.555556    37.88   -122.23   \n",
       "1             0.971880     2401.0        2.109842    37.86   -122.22   \n",
       "2             1.073446      496.0        2.802260    37.85   -122.24   \n",
       "3             1.073059      558.0        2.547945    37.85   -122.25   \n",
       "4             1.081081      565.0        2.181467    37.85   -122.25   \n",
       "\n",
       "   Mediana precio  \n",
       "0           4.526  \n",
       "1           3.585  \n",
       "2           3.521  \n",
       "3           3.413  \n",
       "4           3.422  "
      ]
     },
     "execution_count": 2,
     "metadata": {},
     "output_type": "execute_result"
    }
   ],
   "source": [
    "df = pd.read_csv('precio_casas.csv', sep=';')\n",
    "df.head()"
   ]
  },
  {
   "attachments": {},
   "cell_type": "markdown",
   "metadata": {},
   "source": [
    "# Ejercicio 1"
   ]
  },
  {
   "cell_type": "code",
   "execution_count": null,
   "metadata": {},
   "outputs": [],
   "source": [
    "data = df.to_numpy()\n",
    "x = data[:, :-1] # todas las filas, todas las columnas menos la última\n",
    "y = data[:, -1] # todas las filas, la última columna\n",
    "fig, ax = plt.subplots(2, 4, figsize=(32, 16)) # 2 filas, 4 columnas\n",
    "idx_to_r2 = [] # índice de la columna y su R2\n",
    "\n",
    "for i, (header, vec) in enumerate(zip(df.columns, x.T)): # recorremos las columnas\n",
    "    col = vec.reshape(-1, 1) # convertimos a matriz\n",
    "    reg = lm.LinearRegression().fit(col, y) # ajustamos el modelo\n",
    "    r2 = r2_score(y, reg.predict(col)) # calculamos el R2\n",
    "    idx_to_r2.append((i, r2)) # guardamos el índice y el R2\n",
    "    ax[i // 4, i % 4].scatter(vec, y, color='blue') # dibujamos los puntos\n",
    "    ax[i // 4, i % 4].plot(col, col * reg.coef_[0] + reg.intercept_, color='red') # dibujamos la recta de regresión lineal\n",
    "    cor = np.corrcoef(vec, y)[0, 1] # calculamos la correlación\n",
    "    ax[i // 4, i % 4].set_title(f\"{header}: r2={r2:.5f} cor={cor:.4f}\") # título con el R2 redondeado a 5 decimales\n",
    "    ax[i // 4, i % 4].set_ylim(0, 1.05 * y.max())\n",
    "    ax[i // 4, i % 4].set_xlabel(header)\n",
    "    ax[i // 4, i % 4].set_ylabel('Precio')"
   ]
  },
  {
   "attachments": {},
   "cell_type": "markdown",
   "metadata": {},
   "source": [
    "Un valor de $R^2$ cercano a 1 indica una fuerte dependencia lineal entre la variable independiente y la variable dependiente, mientras que un valor cercano a 0 indica una dependencia lineal débil o nula.\n",
    "En este caso, se puede apreciar claramente como hay una correlación entre la mediana de ingresos y la del precio mayor que el resto de variables en las que la dependencia es muy débil."
   ]
  },
  {
   "attachments": {},
   "cell_type": "markdown",
   "metadata": {},
   "source": [
    "# Ejercicio 2\n",
    "\n",
    "Primero se dividen los datos en un conjunto de entrenamiento y otro de test."
   ]
  },
  {
   "cell_type": "code",
   "execution_count": 6,
   "metadata": {},
   "outputs": [
    {
     "name": "stdout",
     "output_type": "stream",
     "text": [
      "(14448, 8) (14448,)\n"
     ]
    }
   ],
   "source": [
    "data = df.to_numpy()\n",
    "\n",
    "X, y = data[:, :-1], data[:, -1]\n",
    "\n",
    "X_train, X_test, y_train, y_test = train_test_split(X, y, test_size=0.3, random_state=0)\n",
    "print(X_train.shape, y_train.shape, )"
   ]
  },
  {
   "cell_type": "code",
   "execution_count": null,
   "metadata": {},
   "outputs": [],
   "source": [
    "for i in range(1, 9):\n",
    "    model = lm.LinearRegression()\n",
    "    model.fit(X_train[:, :i], y_train)\n",
    "    y_pred = model.predict(X_test[:, :i])\n",
    "    rmse = mean_squared_error(y_test, y_pred, squared=False)\n",
    "    print(f'RMSE con {i} variables: {rmse:.2f}')"
   ]
  }
 ],
 "metadata": {
  "kernelspec": {
   "display_name": "Python 3",
   "language": "python",
   "name": "python3"
  },
  "language_info": {
   "codemirror_mode": {
    "name": "ipython",
    "version": 3
   },
   "file_extension": ".py",
   "mimetype": "text/x-python",
   "name": "python",
   "nbconvert_exporter": "python",
   "pygments_lexer": "ipython3",
   "version": "3.10.7"
  },
  "orig_nbformat": 4,
  "vscode": {
   "interpreter": {
    "hash": "162805d861223990fbee0972ed12f9be628b31f8b6842b220d207744051d74d5"
   }
  }
 },
 "nbformat": 4,
 "nbformat_minor": 2
}
