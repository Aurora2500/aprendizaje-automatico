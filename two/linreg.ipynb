{
 "cells": [
  {
   "attachments": {},
   "cell_type": "markdown",
   "metadata": {},
   "source": [
    "# Practica dos\n",
    "\n",
    "Grupo 14:\n",
    "* Joaquín Ibáñez Penalva\n",
    "* Aurora Zuoris\n",
    "\n",
    "Para la realización de esta práctica  se usará la librería de numpy y sklearn."
   ]
  },
  {
   "cell_type": "code",
   "execution_count": 2,
   "metadata": {},
   "outputs": [],
   "source": [
    "import numpy as np\n",
    "import pandas as pd\n",
    "\n",
    "from sklearn.linear_model import LinearRegression, Ridge, Lasso\n",
    "from sklearn.model_selection import train_test_split"
   ]
  },
  {
   "cell_type": "code",
   "execution_count": 7,
   "metadata": {},
   "outputs": [
    {
     "data": {
      "text/html": [
       "<div>\n",
       "<style scoped>\n",
       "    .dataframe tbody tr th:only-of-type {\n",
       "        vertical-align: middle;\n",
       "    }\n",
       "\n",
       "    .dataframe tbody tr th {\n",
       "        vertical-align: top;\n",
       "    }\n",
       "\n",
       "    .dataframe thead th {\n",
       "        text-align: right;\n",
       "    }\n",
       "</style>\n",
       "<table border=\"1\" class=\"dataframe\">\n",
       "  <thead>\n",
       "    <tr style=\"text-align: right;\">\n",
       "      <th></th>\n",
       "      <th>P1</th>\n",
       "      <th>P2</th>\n",
       "      <th>P3</th>\n",
       "      <th>P4</th>\n",
       "      <th>P5</th>\n",
       "      <th>P6</th>\n",
       "      <th>T_Final</th>\n",
       "    </tr>\n",
       "  </thead>\n",
       "  <tbody>\n",
       "    <tr>\n",
       "      <th>0</th>\n",
       "      <td>02:52:01</td>\n",
       "      <td>04:14:12</td>\n",
       "      <td>05:56:53</td>\n",
       "      <td>06:25:24</td>\n",
       "      <td>08:34:23</td>\n",
       "      <td>10:36:25</td>\n",
       "      <td>11:43:18</td>\n",
       "    </tr>\n",
       "    <tr>\n",
       "      <th>1</th>\n",
       "      <td>02:43:32</td>\n",
       "      <td>04:13:40</td>\n",
       "      <td>06:11:44</td>\n",
       "      <td>06:48:12</td>\n",
       "      <td>09:16:50</td>\n",
       "      <td>11:14:02</td>\n",
       "      <td>12:18:22</td>\n",
       "    </tr>\n",
       "    <tr>\n",
       "      <th>2</th>\n",
       "      <td>03:08:03</td>\n",
       "      <td>04:39:34</td>\n",
       "      <td>06:29:37</td>\n",
       "      <td>06:59:38</td>\n",
       "      <td>09:40:45</td>\n",
       "      <td>12:08:35</td>\n",
       "      <td>13:23:45</td>\n",
       "    </tr>\n",
       "    <tr>\n",
       "      <th>3</th>\n",
       "      <td>03:15:20</td>\n",
       "      <td>04:48:13</td>\n",
       "      <td>06:37:29</td>\n",
       "      <td>07:05:43</td>\n",
       "      <td>09:39:46</td>\n",
       "      <td>12:09:50</td>\n",
       "      <td>13:20:18</td>\n",
       "    </tr>\n",
       "    <tr>\n",
       "      <th>4</th>\n",
       "      <td>03:15:53</td>\n",
       "      <td>04:56:32</td>\n",
       "      <td>06:55:22</td>\n",
       "      <td>07:33:08</td>\n",
       "      <td>10:19:46</td>\n",
       "      <td>12:46:40</td>\n",
       "      <td>14:23:46</td>\n",
       "    </tr>\n",
       "  </tbody>\n",
       "</table>\n",
       "</div>"
      ],
      "text/plain": [
       "         P1        P2        P3        P4        P5        P6   T_Final\n",
       "0  02:52:01  04:14:12  05:56:53  06:25:24  08:34:23  10:36:25  11:43:18\n",
       "1  02:43:32  04:13:40  06:11:44  06:48:12  09:16:50  11:14:02  12:18:22\n",
       "2  03:08:03  04:39:34  06:29:37  06:59:38  09:40:45  12:08:35  13:23:45\n",
       "3  03:15:20  04:48:13  06:37:29  07:05:43  09:39:46  12:09:50  13:20:18\n",
       "4  03:15:53  04:56:32  06:55:22  07:33:08  10:19:46  12:46:40  14:23:46"
      ]
     },
     "execution_count": 7,
     "metadata": {},
     "output_type": "execute_result"
    }
   ],
   "source": [
    "df = pd.read_csv('tiempos.csv', sep=';')\n",
    "df.head()"
   ]
  },
  {
   "cell_type": "code",
   "execution_count": 8,
   "metadata": {},
   "outputs": [
    {
     "data": {
      "text/html": [
       "<div>\n",
       "<style scoped>\n",
       "    .dataframe tbody tr th:only-of-type {\n",
       "        vertical-align: middle;\n",
       "    }\n",
       "\n",
       "    .dataframe tbody tr th {\n",
       "        vertical-align: top;\n",
       "    }\n",
       "\n",
       "    .dataframe thead th {\n",
       "        text-align: right;\n",
       "    }\n",
       "</style>\n",
       "<table border=\"1\" class=\"dataframe\">\n",
       "  <thead>\n",
       "    <tr style=\"text-align: right;\">\n",
       "      <th></th>\n",
       "      <th>P1</th>\n",
       "      <th>P2</th>\n",
       "      <th>P3</th>\n",
       "      <th>P4</th>\n",
       "      <th>P5</th>\n",
       "      <th>P6</th>\n",
       "      <th>T_Final</th>\n",
       "    </tr>\n",
       "  </thead>\n",
       "  <tbody>\n",
       "    <tr>\n",
       "      <th>0</th>\n",
       "      <td>172.016667</td>\n",
       "      <td>254.200000</td>\n",
       "      <td>356.883333</td>\n",
       "      <td>385.400000</td>\n",
       "      <td>514.383333</td>\n",
       "      <td>636.416667</td>\n",
       "      <td>703.300000</td>\n",
       "    </tr>\n",
       "    <tr>\n",
       "      <th>1</th>\n",
       "      <td>163.533333</td>\n",
       "      <td>253.666667</td>\n",
       "      <td>371.733333</td>\n",
       "      <td>408.200000</td>\n",
       "      <td>556.833333</td>\n",
       "      <td>674.033333</td>\n",
       "      <td>738.366667</td>\n",
       "    </tr>\n",
       "    <tr>\n",
       "      <th>2</th>\n",
       "      <td>188.050000</td>\n",
       "      <td>279.566667</td>\n",
       "      <td>389.616667</td>\n",
       "      <td>419.633333</td>\n",
       "      <td>580.750000</td>\n",
       "      <td>728.583333</td>\n",
       "      <td>803.750000</td>\n",
       "    </tr>\n",
       "    <tr>\n",
       "      <th>3</th>\n",
       "      <td>195.333333</td>\n",
       "      <td>288.216667</td>\n",
       "      <td>397.483333</td>\n",
       "      <td>425.716667</td>\n",
       "      <td>579.766667</td>\n",
       "      <td>729.833333</td>\n",
       "      <td>800.300000</td>\n",
       "    </tr>\n",
       "    <tr>\n",
       "      <th>4</th>\n",
       "      <td>195.883333</td>\n",
       "      <td>296.533333</td>\n",
       "      <td>415.366667</td>\n",
       "      <td>453.133333</td>\n",
       "      <td>619.766667</td>\n",
       "      <td>766.666667</td>\n",
       "      <td>863.766667</td>\n",
       "    </tr>\n",
       "  </tbody>\n",
       "</table>\n",
       "</div>"
      ],
      "text/plain": [
       "           P1          P2          P3          P4          P5          P6  \\\n",
       "0  172.016667  254.200000  356.883333  385.400000  514.383333  636.416667   \n",
       "1  163.533333  253.666667  371.733333  408.200000  556.833333  674.033333   \n",
       "2  188.050000  279.566667  389.616667  419.633333  580.750000  728.583333   \n",
       "3  195.333333  288.216667  397.483333  425.716667  579.766667  729.833333   \n",
       "4  195.883333  296.533333  415.366667  453.133333  619.766667  766.666667   \n",
       "\n",
       "      T_Final  \n",
       "0  703.300000  \n",
       "1  738.366667  \n",
       "2  803.750000  \n",
       "3  800.300000  \n",
       "4  863.766667  "
      ]
     },
     "execution_count": 8,
     "metadata": {},
     "output_type": "execute_result"
    }
   ],
   "source": [
    "def hhmmss_to_mins(x):\n",
    "\th, m, s = map(int, x.split(':'))\n",
    "\treturn h * 60 + m + s / 60\n",
    "\n",
    "df = df.applymap(hhmmss_to_mins)\n",
    "df.head()"
   ]
  },
  {
   "attachments": {},
   "cell_type": "markdown",
   "metadata": {},
   "source": [
    "## Ejercicio 1"
   ]
  },
  {
   "cell_type": "code",
   "execution_count": null,
   "metadata": {},
   "outputs": [],
   "source": []
  },
  {
   "attachments": {},
   "cell_type": "markdown",
   "metadata": {},
   "source": [
    "## Ejercicio 2"
   ]
  }
 ],
 "metadata": {
  "kernelspec": {
   "display_name": "Python 3",
   "language": "python",
   "name": "python3"
  },
  "language_info": {
   "codemirror_mode": {
    "name": "ipython",
    "version": 3
   },
   "file_extension": ".py",
   "mimetype": "text/x-python",
   "name": "python",
   "nbconvert_exporter": "python",
   "pygments_lexer": "ipython3",
   "version": "3.10.9"
  },
  "orig_nbformat": 4,
  "vscode": {
   "interpreter": {
    "hash": "e7370f93d1d0cde622a1f8e1c04877d8463912d04d973331ad4851f04de6915a"
   }
  }
 },
 "nbformat": 4,
 "nbformat_minor": 2
}
