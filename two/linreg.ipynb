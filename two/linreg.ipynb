{
 "cells": [
  {
   "attachments": {},
   "cell_type": "markdown",
   "metadata": {},
   "source": [
    "# Práctica Dos\n",
    "\n",
    "Grupo 14:\n",
    "* Joaquín Ibáñez Penalva\n",
    "* Aurora Zuoris\n",
    "\n",
    "Para la realización de esta práctica  se usará la librería de numpy y sklearn."
   ]
  },
  {
   "cell_type": "code",
   "execution_count": null,
   "metadata": {},
   "outputs": [],
   "source": [
    "import numpy as np\n",
    "import pandas as pd\n",
    "import matplotlib.pyplot as plt\n",
    "\n",
    "from sklearn.linear_model import LinearRegression, Ridge, Lasso\n",
    "from sklearn.model_selection import train_test_split\n",
    "from sklearn.metrics import mean_squared_error"
   ]
  },
  {
   "cell_type": "code",
   "execution_count": null,
   "metadata": {},
   "outputs": [],
   "source": [
    "df = pd.read_csv('tiempos.csv', sep=';')\n",
    "df.head()"
   ]
  },
  {
   "cell_type": "code",
   "execution_count": null,
   "metadata": {},
   "outputs": [],
   "source": [
    "def hhmmss_to_mins(x):\n",
    "\th, m, s = map(int, x.split(':'))\n",
    "\treturn h * 60 + m + s / 60\n",
    "\n",
    "df = df.applymap(hhmmss_to_mins)\n",
    "df.head()"
   ]
  },
  {
   "cell_type": "code",
   "execution_count": null,
   "metadata": {},
   "outputs": [],
   "source": [
    "data = df.to_numpy()\n",
    "data.shape"
   ]
  },
  {
   "attachments": {},
   "cell_type": "markdown",
   "metadata": {},
   "source": [
    "## Ejercicio 1"
   ]
  },
  {
   "cell_type": "code",
   "execution_count": null,
   "metadata": {},
   "outputs": [],
   "source": [
    "train, test = train_test_split(data, test_size=0.3) # 70% train, 30% test\n",
    "x = train[:, :-1] # todas las filas, todas las columnas menos la última\n",
    "y = train[:, -1] # todas las filas, la última columna\n",
    "reg = LinearRegression().fit(x, y) \n",
    "reg.score(x, y) \n",
    "pesos = reg.coef_ # coeficientes\n",
    "intercepcion = reg.intercept_ # intercepción\n",
    "prediccion = reg.predict(test[:, :-1]) # predicción\n",
    "print(pesos)\n",
    "print(reg.intercept_)\n",
    "\n",
    "reg2 = LinearRegression(fit_intercept=False).fit(x, y) # sin intercepción\n",
    "reg2.score(x, y)\n",
    "pesos2 = reg2.coef_ \n",
    "print(pesos2)"
   ]
  },
  {
   "cell_type": "code",
   "execution_count": null,
   "metadata": {},
   "outputs": [],
   "source": [
    "ax = plt.subplot(111)\n",
    "ax.bar( np.arange(len(pesos) + 1), np.append(pesos, intercepcion), width=0.3) # pesos + intercepción\n",
    "ax.bar( np.arange(len(pesos2))-0.3, pesos2, width=0.3) # pesos sin intercepción\n",
    "ax.set_xlabel('X')\n",
    "ax.set_ylabel('Y')\n",
    "ax.set_xticks(np.arange(len(pesos) + 1), ['P1', 'P2', 'P3', 'P4', 'P5', 'P6', 'w0']) \n",
    "ax.legend(['w0 != 0', 'w0 = 0'])\n",
    "ax.set_title('Gráfico de Barras')\n",
    "ax.grid()\n",
    "plt.show()"
   ]
  },
  {
   "attachments": {},
   "cell_type": "markdown",
   "metadata": {},
   "source": [
    "Gráfico cuando la intercepción (w0) se estima o cuando es 0. Se puede apreciar como en P6 suele ser practicamente igual, mientras que en P1 o P2 suele variar más."
   ]
  },
  {
   "cell_type": "code",
   "execution_count": null,
   "metadata": {},
   "outputs": [],
   "source": [
    "mean_squared_error(prediccion, test[:, -1], squared=False) # error cuadrático medio"
   ]
  },
  {
   "attachments": {},
   "cell_type": "markdown",
   "metadata": {},
   "source": [
    "## Ejercicio 2"
   ]
  },
  {
   "cell_type": "code",
   "execution_count": null,
   "metadata": {},
   "outputs": [],
   "source": []
  }
 ],
 "metadata": {
  "kernelspec": {
   "display_name": "aa1",
   "language": "python",
   "name": "python3"
  },
  "language_info": {
   "codemirror_mode": {
    "name": "ipython",
    "version": 3
   },
   "file_extension": ".py",
   "mimetype": "text/x-python",
   "name": "python",
   "nbconvert_exporter": "python",
   "pygments_lexer": "ipython3",
   "version": "3.10.9"
  },
  "vscode": {
   "interpreter": {
    "hash": "26c311463b1f0e6ae574b2b9e7da07fe30118d1f71ff80eae0eaefa8fa6bf39d"
   }
  }
 },
 "nbformat": 4,
 "nbformat_minor": 2
}
