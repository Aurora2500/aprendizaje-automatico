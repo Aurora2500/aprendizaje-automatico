{
 "cells": [
  {
   "attachments": {},
   "cell_type": "markdown",
   "metadata": {},
   "source": [
    "# Practica ocho\n",
    "\n",
    "Grupo 14:\n",
    "* Joaquín Ibáñez Penalva\n",
    "* Aurora Zuoris\n",
    "\n",
    "Para la realización de esta práctica se usará la librería de numpy, pandas, matplotlib, y sklearn."
   ]
  },
  {
   "cell_type": "code",
   "execution_count": null,
   "metadata": {},
   "outputs": [],
   "source": [
    "import numpy as np\n",
    "import pandas as pd\n",
    "import matplotlib.pyplot as plt"
   ]
  },
  {
   "attachments": {},
   "cell_type": "markdown",
   "metadata": {},
   "source": [
    "## Ejercicio 1\n"
   ]
  },
  {
   "cell_type": "code",
   "execution_count": null,
   "metadata": {},
   "outputs": [],
   "source": [
    "df = pd.read_csv('datos_svm.csv')\n",
    "df.head()"
   ]
  },
  {
   "cell_type": "code",
   "execution_count": null,
   "metadata": {},
   "outputs": [],
   "source": [
    "# Obtener un clasificador SVM lineal para cada uno de los siguientes valores de C, {0.01, 1, 10}, con todas las muestras del conjunto de datos\n",
    "from sklearn.svm import SVC\n",
    "\n",
    "# Crear los clasificadores SVM lineales con diferentes valores de C\n",
    "C_values = [0.01, 1, 10]\n",
    "classifiers = []\n",
    "X = df[['x1', 'x2']].values\n",
    "y = df['y'].values\n",
    "for C in C_values:\n",
    "    clf = SVC(kernel='linear', C=C, random_state=0)\n",
    "    clf.fit(X, y)\n",
    "    classifiers.append(clf)\n",
    "    print(clf.score(X, y))\n",
    "\n"
   ]
  },
  {
   "cell_type": "code",
   "execution_count": null,
   "metadata": {},
   "outputs": [],
   "source": [
    "fig, axes = plt.subplots(3, 1, figsize=(5, 15))\n",
    "for clf_i, clf in enumerate(classifiers):\n",
    "    # Crea una malla de puntos para representar las superficies de decisión\n",
    "    x_min, x_max = X[:, 0].min() - 1, X[:, 0].max() + 1\n",
    "    y_min, y_max = X[:, 1].min() - 1, X[:, 1].max() + 1\n",
    "\n",
    "    x_range = np.arange(x_min, x_max, 0.02)\n",
    "\n",
    "    for i in range(clf.coef_.shape[0]): # Para cada clase\n",
    "        line = - (clf.coef_[i,0] / clf.coef_[i,1]) * x_range - (clf.intercept_[i] / clf.coef_[i,1]) # Ecuación de la recta\n",
    "        axes[clf_i].plot(x_range, line, color=\"blue\") \n",
    "\n",
    "\n",
    "    axes[clf_i].scatter(X[:, 0], X[:, 1], c=y, cmap=plt.cm.Paired) \n",
    "    axes[clf_i].scatter(clf.support_vectors_[:, 0], clf.support_vectors_[:, 1], marker='x', color='red', alpha = 0.5) # Muestras de soporte en cruces rojas\n",
    "    # Configurar el gráfico\n",
    "    axes[clf_i].set_ylim(y_min, y_max)\n",
    "    axes[clf_i].set_title(f'SVM lineal (C = {C_values[clf_i]})')\n"
   ]
  },
  {
   "attachments": {},
   "cell_type": "markdown",
   "metadata": {},
   "source": [
    "Se puede observar como conforme vamos aumentando el valor de C, el número de vectores de soporte disminuye. A mayor número de vectores soporte, el margen es mayor lo que puede cambiar la frontera de decisión. En general, cuanto mayor es el valor de C, más preciso debería ser el modelo, sin embargo en este caso, el que mayor score tiene es el 0.1 (85%). Además, cabe destacar que no estamos dividiendo los datos en train y test, sino que estamos utilizando los datos en su totalidad. Por esto, el score se debe interpretar más como cuanto de bien se ajusta el modelo con los datos que se entrena, más que su precisión en general, dado que puede que ocurra overfitting."
   ]
  },
  {
   "attachments": {},
   "cell_type": "markdown",
   "metadata": {},
   "source": [
    "## Ejercicio 2"
   ]
  },
  {
   "cell_type": "code",
   "execution_count": null,
   "metadata": {},
   "outputs": [],
   "source": []
  }
 ],
 "metadata": {
  "kernelspec": {
   "display_name": "Python 3",
   "language": "python",
   "name": "python3"
  },
  "language_info": {
   "codemirror_mode": {
    "name": "ipython",
    "version": 3
   },
   "file_extension": ".py",
   "mimetype": "text/x-python",
   "name": "python",
   "nbconvert_exporter": "python",
   "pygments_lexer": "ipython3",
   "version": "3.10.9"
  },
  "vscode": {
   "interpreter": {
    "hash": "8c900cb90dee983911779de55d7a1efccb46f16c81cdf15a7b8ee95d3de3d3b1"
   }
  }
 },
 "nbformat": 4,
 "nbformat_minor": 2
}
