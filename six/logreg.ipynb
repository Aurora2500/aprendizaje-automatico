{
 "cells": [
  {
   "cell_type": "markdown",
   "metadata": {},
   "source": [
    "# Practica seis\n",
    "\n",
    "Grupo 14:\n",
    "* Joaquín Ibáñez Penalva\n",
    "* Aurora Zuoris\n",
    "\n",
    "Para la realización de esta práctica se usará la librería de numpy, pandas, matplotlib, y sklearn."
   ]
  },
  {
   "cell_type": "code",
   "execution_count": null,
   "metadata": {},
   "outputs": [],
   "source": [
    "import numpy as np\n",
    "import matplotlib.pyplot as plt\n",
    "import pandas as pd\n",
    "\n",
    "from sklearn.linear_model import LogisticRegression, Perceptron\n",
    "from sklearn.model_selection import train_test_split\n",
    "from sklearn.metrics import accuracy_score\n",
    "from sklearn.datasets import make_blobs"
   ]
  },
  {
   "attachments": {},
   "cell_type": "markdown",
   "metadata": {},
   "source": [
    "## Ejercicio uno"
   ]
  },
  {
   "cell_type": "code",
   "execution_count": null,
   "metadata": {},
   "outputs": [],
   "source": [
    "X, y = make_blobs(n_samples=60, centers=[(-7,-7), (-2,10), (5,2)], n_features=2, cluster_std=1.0) # 20 muestras de cada clase (3 clases) con 2 características cada una y desviación estándar de 1.0 en cada clase\n",
    "plt.scatter(X[:,0], X[:,1], c=y) # c es el color de cada punto\n",
    "plt.show() # muestra el gráfico"
   ]
  },
  {
   "cell_type": "code",
   "execution_count": null,
   "metadata": {},
   "outputs": [],
   "source": [
    "X_train, X_test, y_train, y_test = train_test_split(X, y, test_size=0.3) # 70% para entrenamiento y 30% para test\n",
    "clf_perceptron = Perceptron() # crea el clasificador de perceptrón\n",
    "clf_perceptron.fit(X_train, y_train) # entrena el clasificador con los datos de entrenamiento\n",
    "y_pred = clf_perceptron.predict(X_test) # predice los valores de las muestras de test\n",
    "print(accuracy_score(y_test, y_pred)) # muestra la precisión del clasificador\n",
    "\n",
    "print(y_test) # muestra los valores reales de las muestras de test\n",
    "print(y_pred) # muestra los valores predichos por el clasificador de perceptrón\n",
    "\n",
    "clf_logistic = LogisticRegression() # crea el clasificador de regresión logística\n",
    "clf_logistic.fit(X_train, y_train) # entrena el clasificador con los datos de entrenamiento\n",
    "y_pred = clf_logistic.predict(X_test) # predice los valores de las muestras de test\n",
    "print(accuracy_score(y_test, y_pred)) # muestra la precisión del clasificador\n",
    "\n",
    "print(y_test) # muestra los valores reales de las muestras de test\n",
    "print(y_pred) # muestra los valores predichos por el clasificador de regresión logística"
   ]
  },
  {
   "cell_type": "code",
   "execution_count": null,
   "metadata": {},
   "outputs": [],
   "source": [
    "plt.scatter(X[:, 0], X[:, 1], c=y, cmap='Paired', edgecolor='black')\n",
    "# Crea una malla de puntos para representar las superficies de decisión\n",
    "xx, yy = np.meshgrid(np.linspace(-10, 10, 100), np.linspace(-10, 15, 100))\n",
    "X_grid = np.c_[xx.ravel(), yy.ravel()]\n",
    "\n",
    "# Representa la superficie de decisión del Perceptrón\n",
    "Z_perceptron = clf_perceptron.predict(X_grid)\n",
    "Z_perceptron = Z_perceptron.reshape(xx.shape)\n",
    "plt.contour(xx, yy, Z_perceptron, colors='blue', linewidths=1)\n",
    "\n",
    "# Representa la superficie de decisión de la Regresión Logística\n",
    "Z_logistic = clf_logistic.predict(X_grid)\n",
    "Z_logistic = Z_logistic.reshape(xx.shape)\n",
    "plt.contour(xx, yy, Z_logistic, colors='red', linewidths=1)\n",
    "\n",
    "# Muestra el gráfico\n",
    "plt.show()"
   ]
  },
  {
   "attachments": {},
   "cell_type": "markdown",
   "metadata": {},
   "source": [
    "## Ejercicio dos"
   ]
  },
  {
   "cell_type": "code",
   "execution_count": null,
   "metadata": {},
   "outputs": [],
   "source": []
  }
 ],
 "metadata": {
  "kernelspec": {
   "display_name": "Python 3",
   "language": "python",
   "name": "python3"
  },
  "language_info": {
   "codemirror_mode": {
    "name": "ipython",
    "version": 3
   },
   "file_extension": ".py",
   "mimetype": "text/x-python",
   "name": "python",
   "nbconvert_exporter": "python",
   "pygments_lexer": "ipython3",
   "version": "3.10.9"
  },
  "vscode": {
   "interpreter": {
    "hash": "e7370f93d1d0cde622a1f8e1c04877d8463912d04d973331ad4851f04de6915a"
   }
  }
 },
 "nbformat": 4,
 "nbformat_minor": 2
}
