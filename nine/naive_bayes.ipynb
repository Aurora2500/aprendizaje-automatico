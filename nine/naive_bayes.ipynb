{
 "cells": [
  {
   "cell_type": "markdown",
   "metadata": {},
   "source": [
    "# Practica nueve\n",
    "\n",
    "Grupo 14:\n",
    "* Joaquín Ibáñez Penalva\n",
    "* Aurora Zuoris\n",
    "\n",
    "Para la realización de esta práctica se usará la librería de numpy, pandas, matplotlib, y sklearn."
   ]
  },
  {
   "cell_type": "code",
   "execution_count": null,
   "metadata": {},
   "outputs": [],
   "source": [
    "import numpy as np\n",
    "import pandas as pd\n",
    "import matplotlib.pyplot as plt"
   ]
  },
  {
   "cell_type": "code",
   "execution_count": null,
   "metadata": {},
   "outputs": [],
   "source": [
    "data_bin = pd.read_csv('spam_preprocesado_binario.csv')\n",
    "data_real = pd.read_csv('spam_preprocesado_reales.csv')\n",
    "\n",
    "data_bin.shape, data_real.shape"
   ]
  },
  {
   "attachments": {},
   "cell_type": "markdown",
   "metadata": {},
   "source": [
    "## Ejercicio uno"
   ]
  },
  {
   "cell_type": "code",
   "execution_count": null,
   "metadata": {},
   "outputs": [],
   "source": [
    "from sklearn.model_selection import train_test_split\n",
    "\n",
    "X_train_bin, X_test_bin, y_train_bin, y_test_bin = train_test_split(data_bin.drop('v1', axis=1), data_bin['v1'], test_size=0.3, random_state=42)\n",
    "X_train_real, X_test_real, y_train_real, y_test_real = train_test_split(data_real.drop('v1', axis=1), data_real['v1'], test_size=0.3, random_state=42)\n",
    "\n",
    "X_train_bin.shape, X_test_bin.shape, y_train_bin.shape, y_test_bin.shape"
   ]
  },
  {
   "cell_type": "code",
   "execution_count": null,
   "metadata": {},
   "outputs": [],
   "source": [
    "data_bin['v1'].value_counts()"
   ]
  },
  {
   "cell_type": "code",
   "execution_count": null,
   "metadata": {},
   "outputs": [],
   "source": [
    "from sklearn.naive_bayes import GaussianNB, MultinomialNB, ComplementNB, BernoulliNB\n",
    "from sklearn.metrics import accuracy_score, confusion_matrix, ConfusionMatrixDisplay\n",
    "\n",
    "fig, axs = plt.subplots(4, 2, figsize=(10, 20))\n",
    "\n",
    "models = [\n",
    "    GaussianNB(),\n",
    "    MultinomialNB(),\n",
    "    ComplementNB(),\n",
    "    BernoulliNB()\n",
    "]\n",
    "\n",
    "for i, model in enumerate(models):\n",
    "    model.fit(X_train_real, y_train_real)\n",
    "    p = model.predict(X_test_real)\n",
    "    s = accuracy_score(y_test_real, p)\n",
    "    c = confusion_matrix(y_test_real, p)\n",
    "    ConfusionMatrixDisplay(c, display_labels=['ham', 'spam']).plot(ax=axs[i, 0])\n",
    "    axs[i, 0].set_title(f'{model.__class__.__name__} - reals ({s:.2%}))')\n",
    "\n",
    "    model.fit(X_train_bin, y_train_bin)\n",
    "    p = model.predict(X_test_bin)\n",
    "    s = accuracy_score(y_test_bin, p)\n",
    "    c = confusion_matrix(y_test_bin, p)\n",
    "    ConfusionMatrixDisplay(c, display_labels=['ham', 'spam']).plot(ax=axs[i, 1])\n",
    "    axs[i, 1].set_title(f'{model.__class__.__name__} - bin ({s:.2%}))')\n"
   ]
  },
  {
   "attachments": {},
   "cell_type": "markdown",
   "metadata": {},
   "source": [
    "## Ejercicio dos"
   ]
  },
  {
   "cell_type": "code",
   "execution_count": null,
   "metadata": {},
   "outputs": [],
   "source": [
    "# Importar regresión logística, perceptrón, svm y kNN\n",
    "from sklearn.linear_model import LogisticRegression\n",
    "from sklearn.linear_model import Perceptron\n",
    "from sklearn.svm import SVC\n",
    "from sklearn.neighbors import KNeighborsClassifier\n",
    "from collections import defaultdict\n",
    "\n",
    "models = [\n",
    "    LogisticRegression(random_state=42),\n",
    "    Perceptron(random_state=42),\n",
    "    SVC(random_state=42),\n",
    "    KNeighborsClassifier(n_neighbors=5),\n",
    "    KNeighborsClassifier(n_neighbors=1),\n",
    "]\n",
    "\n",
    "accuracys = defaultdict(list)\n",
    "\n",
    "for i, model in enumerate(models):\n",
    "    model.fit(X_train_real, y_train_real)\n",
    "    p = model.predict(X_test_real)\n",
    "    s = accuracy_score(y_test_real, p)\n",
    "    accuracys['model'].append(model.__class__.__name__)\n",
    "    accuracys['real'].append(f\"{s:.2%}\")\n",
    "    \n",
    "\n",
    "    model.fit(X_train_bin, y_train_bin)\n",
    "    p = model.predict(X_test_bin)\n",
    "    s = accuracy_score(y_test_bin, p)\n",
    "    c = confusion_matrix(y_test_bin, p)\n",
    "    accuracys['bin'].append(f\"{s:.2%}\")\n",
    "\n",
    "pd.DataFrame(accuracys)"
   ]
  },
  {
   "attachments": {},
   "cell_type": "markdown",
   "metadata": {},
   "source": [
    "Los resultados obtenidos muestran que todos los clasificadores evaluados tienen un rendimiento bastante alto en la clasificación de mensajes SMS como legítimos o spam. \n",
    "\n",
    "La tasa de acierto para todos los clasificadores es superior al 93%, lo que indica que los modelos son capaces de clasificar correctamente la mayoría de los mensajes. En general, estos algoritmos funcionan bien en este problema debido a que los mensajes de spam y los mensajes legítimos suelen tener patrones muy diferentes debido a las palabras utilizadas en los mensajes. \n",
    "\n",
    "Sin embargo, sí se nota como el clasificador de Vecinos más cercanos es ligeramente peor a los otros tres cuando el hiperparametro del número de vecinos es superior a uno. Esto puede deberse a que la relacion de mensajes spam y no spam es de 1 a 7, por lo que este puede ser el motivo de que haya un mejor rendimiento con menos vecinos.\n",
    "\n",
    "En comparacion a los clasificadores de Naive Bayes, se obtiene resultados similares menos en el de Gaussian Naive Bayes, que es ligeramente peor al resto por lo explicado en el apartado anterior."
   ]
  }
 ],
 "metadata": {
  "kernelspec": {
   "display_name": "Python 3",
   "language": "python",
   "name": "python3"
  },
  "language_info": {
   "codemirror_mode": {
    "name": "ipython",
    "version": 3
   },
   "file_extension": ".py",
   "mimetype": "text/x-python",
   "name": "python",
   "nbconvert_exporter": "python",
   "pygments_lexer": "ipython3",
   "version": "3.10.9"
  },
  "vscode": {
   "interpreter": {
    "hash": "124093b7be10c32076c75f60f415d6def65edeb693f6c465ae4e1e508e9d8137"
   }
  }
 },
 "nbformat": 4,
 "nbformat_minor": 2
}
