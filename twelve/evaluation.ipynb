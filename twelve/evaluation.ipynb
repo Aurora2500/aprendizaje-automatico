{
 "cells": [
  {
   "attachments": {},
   "cell_type": "markdown",
   "metadata": {},
   "source": [
    "# Practica once\n",
    "\n",
    "Grupo 14:\n",
    "* Joaquín Ibáñez Penalva\n",
    "* Aurora Zuoris\n",
    "\n",
    "Para la realización de esta práctica se usará la librería de numpy, pandas, matplotlib, y sklearn."
   ]
  },
  {
   "cell_type": "code",
   "execution_count": 1,
   "metadata": {},
   "outputs": [],
   "source": [
    "import numpy as np\n",
    "import pandas as pd\n",
    "import matplotlib.pyplot as plt"
   ]
  },
  {
   "attachments": {},
   "cell_type": "markdown",
   "metadata": {},
   "source": [
    "# Ejercicio uno"
   ]
  },
  {
   "cell_type": "code",
   "execution_count": null,
   "metadata": {},
   "outputs": [],
   "source": [
    "import pandas as pd\n",
    "import numpy as np\n",
    "from sklearn.model_selection import train_test_split, RepeatedKFold\n",
    "from sklearn.linear_model import LinearRegression\n",
    "from sklearn.tree import DecisionTreeRegressor\n",
    "from sklearn.metrics import mean_squared_error"
   ]
  },
  {
   "cell_type": "code",
   "execution_count": null,
   "metadata": {},
   "outputs": [],
   "source": [
    "# Cargar el conjunto de datos California Housing\n",
    "housing_data = pd.read_csv('precio_casas.csv', sep=';')\n",
    "\n",
    "\n",
    "# Dividir los datos en características y variable objetivo\n",
    "X = housing_data.drop('Mediana precio', axis=1)\n",
    "y = housing_data['Mediana precio']\n",
    "X.shape, y.shape"
   ]
  },
  {
   "cell_type": "code",
   "execution_count": null,
   "metadata": {},
   "outputs": [],
   "source": [
    "# Inicializar listas para almacenar los resultados\n",
    "linear_reg_rmse = []\n",
    "tree_reg_rmse = []\n",
    "\n",
    "# Probar diferentes criterios de división de nodos para los árboles de regresión\n",
    "for criterion in ['friedman_mse', 'poisson', 'squared_error', 'absolute_error']:\n",
    "    # Inicializar listas para almacenar los resultados para cada criterio\n",
    "    tree_reg_rmse_criterion = []\n",
    "\n",
    "    # Dividir el conjunto de datos en entrenamiento y prueba para cada repetición\n",
    "    for i in range(10):\n",
    "        X_train, X_test, y_train, y_test = train_test_split(X, y, test_size=0.2, random_state=i)\n",
    "\n",
    "        # Entrenar el modelo de regresión lineal\n",
    "        linear_reg = LinearRegression()\n",
    "        linear_reg.fit(X_train, y_train)\n",
    "        \n",
    "        # Calcular el error cuadrático medio (RMSE) para el modelo de regresión lineal\n",
    "        linear_reg_rmse.append(mean_squared_error(y_test, linear_reg.predict(X_test), squared=False))\n",
    "        \n",
    "        # Entrenar el modelo de árbol de regresión\n",
    "        tree_reg = DecisionTreeRegressor(criterion=criterion)\n",
    "        tree_reg.fit(X_train, y_train)\n",
    "        \n",
    "        # Calcular el error cuadrático medio (RMSE) para el modelo de árbol de regresión\n",
    "        tree_reg_rmse_criterion.append(mean_squared_error(y_test, tree_reg.predict(X_test), squared=False))\n",
    "    \n",
    "    # Calcular el promedio y la desviación estándar del RMSE para el modelo de árbol de regresión con el criterio actual\n",
    "    tree_reg_rmse.append((criterion, np.mean(tree_reg_rmse_criterion), np.std(tree_reg_rmse_criterion)))"
   ]
  },
  {
   "cell_type": "code",
   "execution_count": null,
   "metadata": {},
   "outputs": [],
   "source": [
    "from collections import defaultdict\n",
    "dict = defaultdict(list)\n",
    "dict[\"model\"].append(\"Regresión lineal\")\n",
    "dict[\"mean\"].append(f\"{np.mean(linear_reg_rmse):.2%}\")\n",
    "dict[\"std\"].append(f\"{np.std(linear_reg_rmse):.2%}\")\n",
    "for criterion, mean, std in tree_reg_rmse:\n",
    "    dict[\"model\"].append(f\"Árbol de regresión ({criterion})\")\n",
    "    dict[\"mean\"].append(f\"{mean:.2%}\")\n",
    "    dict[\"std\"].append(f\"{std:.2%}\")\n",
    "\n",
    "df = pd.DataFrame(dict)\n",
    "df"
   ]
  },
  {
   "attachments": {},
   "cell_type": "markdown",
   "metadata": {},
   "source": [
    "Los resultados son bastante parecidos entre sí, siendo que la regresión lineal es la que mejor resultado obtiene (73%) y el Árbol de regresión utilizando el criterio poisson el que peor (70%)."
   ]
  },
  {
   "attachments": {},
   "cell_type": "markdown",
   "metadata": {},
   "source": [
    "# Ejercicio dos"
   ]
  },
  {
   "cell_type": "code",
   "execution_count": 24,
   "metadata": {},
   "outputs": [],
   "source": [
    "def validacion_cv(n, n_particiones=5, mezclar=True, semilla=None):\n",
    "\t# validación de argumentos\n",
    "\tif semilla is not None and not mezclar:\n",
    "\t\traise ValueError(\"La semilla esta puesta pero mezclar es False, puede que tu intención era mezclarlo\")\n",
    "\tif n <= 0:\n",
    "\t\traise ValueError(\"n debe ser mayor que 0\")\n",
    "\tif n_particiones <= 0:\n",
    "\t\traise ValueError(\"n_particiones debe ser mayor que 0\")\n",
    "\tif n_particiones > n:\n",
    "\t\traise ValueError(\"n_particiones debe ser menor o igual que n\")\n",
    "\t# se generan índices para el caso que haya que mezclar\n",
    "\ttrue_indices = np.arange(n)\n",
    "\tif mezclar:\n",
    "\t\tif semilla is not None:\n",
    "\t\t\tnp.random.seed(semilla)\n",
    "\t\tnp.random.shuffle(true_indices)\n",
    "\tpartitions = []\n",
    "\tfor k in range(n_particiones):\n",
    "\t\ttest_start = k * n // n_particiones\n",
    "\t\ttest_end = (k+1) * n // n_particiones\n",
    "\t\ttrain_indices = np.concatenate((\n",
    "\t\t\tnp.arange(0, test_start),\n",
    "\t\t\tnp.arange(test_end, n)\n",
    "\t\t))\n",
    "\t\ttest_indices = np.arange(test_start, test_end)\n",
    "\t\tpartitions.append((true_indices[train_indices], true_indices[test_indices]))\n",
    "\treturn partitions"
   ]
  },
  {
   "cell_type": "code",
   "execution_count": 29,
   "metadata": {},
   "outputs": [
    {
     "data": {
      "text/plain": [
       "[(array([ 4,  5,  6,  7,  8,  9, 10, 11, 12, 13, 14, 15, 16, 17, 18, 19]),\n",
       "  array([0, 1, 2, 3])),\n",
       " (array([ 0,  1,  2,  3,  8,  9, 10, 11, 12, 13, 14, 15, 16, 17, 18, 19]),\n",
       "  array([4, 5, 6, 7])),\n",
       " (array([ 0,  1,  2,  3,  4,  5,  6,  7, 12, 13, 14, 15, 16, 17, 18, 19]),\n",
       "  array([ 8,  9, 10, 11])),\n",
       " (array([ 0,  1,  2,  3,  4,  5,  6,  7,  8,  9, 10, 11, 16, 17, 18, 19]),\n",
       "  array([12, 13, 14, 15])),\n",
       " (array([ 0,  1,  2,  3,  4,  5,  6,  7,  8,  9, 10, 11, 12, 13, 14, 15]),\n",
       "  array([16, 17, 18, 19]))]"
      ]
     },
     "execution_count": 29,
     "metadata": {},
     "output_type": "execute_result"
    }
   ],
   "source": [
    "# El ejemplo dado en el enunciado:\n",
    "validacion_cv(20, mezclar=False)"
   ]
  },
  {
   "cell_type": "code",
   "execution_count": 35,
   "metadata": {},
   "outputs": [
    {
     "data": {
      "text/plain": [
       "[(array([10, 17,  6, 13,  4,  2,  5, 14,  9,  7, 16, 11,  3,  0, 15, 12]),\n",
       "  array([18,  1, 19,  8])),\n",
       " (array([18,  1, 19,  8,  4,  2,  5, 14,  9,  7, 16, 11,  3,  0, 15, 12]),\n",
       "  array([10, 17,  6, 13])),\n",
       " (array([18,  1, 19,  8, 10, 17,  6, 13,  9,  7, 16, 11,  3,  0, 15, 12]),\n",
       "  array([ 4,  2,  5, 14])),\n",
       " (array([18,  1, 19,  8, 10, 17,  6, 13,  4,  2,  5, 14,  3,  0, 15, 12]),\n",
       "  array([ 9,  7, 16, 11])),\n",
       " (array([18,  1, 19,  8, 10, 17,  6, 13,  4,  2,  5, 14,  9,  7, 16, 11]),\n",
       "  array([ 3,  0, 15, 12]))]"
      ]
     },
     "execution_count": 35,
     "metadata": {},
     "output_type": "execute_result"
    }
   ],
   "source": [
    "# ejemplos con mezcla:\n",
    "\n",
    "validacion_cv(20, mezclar=True, semilla=0)"
   ]
  },
  {
   "cell_type": "code",
   "execution_count": 36,
   "metadata": {},
   "outputs": [
    {
     "ename": "ValueError",
     "evalue": "La semilla esta puesta pero mezclar es False, puede que tu intención era mezclarlo",
     "output_type": "error",
     "traceback": [
      "\u001b[0;31m---------------------------------------------------------------------------\u001b[0m",
      "\u001b[0;31mValueError\u001b[0m                                Traceback (most recent call last)",
      "Cell \u001b[0;32mIn [36], line 3\u001b[0m\n\u001b[1;32m      1\u001b[0m \u001b[39m# ejemplos con semilla pero sin mezcla:\u001b[39;00m\n\u001b[0;32m----> 3\u001b[0m validacion_cv(\u001b[39m20\u001b[39;49m, mezclar\u001b[39m=\u001b[39;49m\u001b[39mFalse\u001b[39;49;00m, semilla\u001b[39m=\u001b[39;49m\u001b[39m0\u001b[39;49m)\n",
      "Cell \u001b[0;32mIn [24], line 3\u001b[0m, in \u001b[0;36mvalidacion_cv\u001b[0;34m(n, n_particiones, mezclar, semilla)\u001b[0m\n\u001b[1;32m      1\u001b[0m \u001b[39mdef\u001b[39;00m \u001b[39mvalidacion_cv\u001b[39m(n, n_particiones\u001b[39m=\u001b[39m\u001b[39m5\u001b[39m, mezclar\u001b[39m=\u001b[39m\u001b[39mTrue\u001b[39;00m, semilla\u001b[39m=\u001b[39m\u001b[39mNone\u001b[39;00m):\n\u001b[1;32m      2\u001b[0m \t\u001b[39mif\u001b[39;00m semilla \u001b[39mis\u001b[39;00m \u001b[39mnot\u001b[39;00m \u001b[39mNone\u001b[39;00m \u001b[39mand\u001b[39;00m \u001b[39mnot\u001b[39;00m mezclar:\n\u001b[0;32m----> 3\u001b[0m \t\t\u001b[39mraise\u001b[39;00m \u001b[39mValueError\u001b[39;00m(\u001b[39m\"\u001b[39m\u001b[39mLa semilla esta puesta pero mezclar es False, puede que tu intención era mezclarlo\u001b[39m\u001b[39m\"\u001b[39m)\n\u001b[1;32m      4\u001b[0m \t\u001b[39mif\u001b[39;00m n \u001b[39m<\u001b[39m\u001b[39m=\u001b[39m \u001b[39m0\u001b[39m:\n\u001b[1;32m      5\u001b[0m \t\t\u001b[39mraise\u001b[39;00m \u001b[39mValueError\u001b[39;00m(\u001b[39m\"\u001b[39m\u001b[39mn debe ser mayor que 0\u001b[39m\u001b[39m\"\u001b[39m)\n",
      "\u001b[0;31mValueError\u001b[0m: La semilla esta puesta pero mezclar es False, puede que tu intención era mezclarlo"
     ]
    }
   ],
   "source": [
    "# ejemplos con semilla pero sin mezcla, esto salta un aviso al programador.\n",
    "\n",
    "validacion_cv(20, mezclar=False, semilla=0)"
   ]
  }
 ],
 "metadata": {
  "kernelspec": {
   "display_name": "Python 3",
   "language": "python",
   "name": "python3"
  },
  "language_info": {
   "codemirror_mode": {
    "name": "ipython",
    "version": 3
   },
   "file_extension": ".py",
   "mimetype": "text/x-python",
   "name": "python",
   "nbconvert_exporter": "python",
   "pygments_lexer": "ipython3",
   "version": "3.10.9"
  },
  "vscode": {
   "interpreter": {
    "hash": "8c900cb90dee983911779de55d7a1efccb46f16c81cdf15a7b8ee95d3de3d3b1"
   }
  }
 },
 "nbformat": 4,
 "nbformat_minor": 2
}
