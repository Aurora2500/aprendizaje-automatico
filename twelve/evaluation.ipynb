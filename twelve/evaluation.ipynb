{
 "cells": [
  {
   "attachments": {},
   "cell_type": "markdown",
   "metadata": {},
   "source": [
    "# Practica once\n",
    "\n",
    "Grupo 14:\n",
    "* Joaquín Ibáñez Penalva\n",
    "* Aurora Zuoris\n",
    "\n",
    "Para la realización de esta práctica se usará la librería de numpy, pandas, matplotlib, y sklearn."
   ]
  },
  {
   "cell_type": "code",
   "execution_count": null,
   "metadata": {},
   "outputs": [],
   "source": [
    "import numpy as np\n",
    "import pandas as pd\n",
    "import matplotlib.pyplot as plt"
   ]
  },
  {
   "attachments": {},
   "cell_type": "markdown",
   "metadata": {},
   "source": [
    "# Ejercicio uno"
   ]
  },
  {
   "cell_type": "code",
   "execution_count": null,
   "metadata": {},
   "outputs": [],
   "source": [
    "import pandas as pd\n",
    "import numpy as np\n",
    "from sklearn.model_selection import train_test_split, RepeatedKFold\n",
    "from sklearn.linear_model import LinearRegression\n",
    "from sklearn.tree import DecisionTreeRegressor\n",
    "from sklearn.metrics import mean_squared_error"
   ]
  },
  {
   "cell_type": "code",
   "execution_count": null,
   "metadata": {},
   "outputs": [],
   "source": [
    "# Cargar el conjunto de datos California Housing\n",
    "housing_data = pd.read_csv('precio_casas.csv', sep=';')\n",
    "\n",
    "\n",
    "# Dividir los datos en características y variable objetivo\n",
    "X = housing_data.drop('Mediana precio', axis=1)\n",
    "y = housing_data['Mediana precio']\n",
    "X.shape, y.shape"
   ]
  },
  {
   "cell_type": "code",
   "execution_count": null,
   "metadata": {},
   "outputs": [],
   "source": [
    "# Inicializar listas para almacenar los resultados\n",
    "linear_reg_rmse = []\n",
    "tree_reg_rmse = []\n",
    "\n",
    "# Probar diferentes criterios de división de nodos para los árboles de regresión\n",
    "for criterion in ['friedman_mse', 'poisson', 'squared_error', 'absolute_error']:\n",
    "    # Inicializar listas para almacenar los resultados para cada criterio\n",
    "    tree_reg_rmse_criterion = []\n",
    "\n",
    "    # Dividir el conjunto de datos en entrenamiento y prueba para cada repetición\n",
    "    for i in range(10):\n",
    "        X_train, X_test, y_train, y_test = train_test_split(X, y, test_size=0.2, random_state=i)\n",
    "\n",
    "        # Entrenar el modelo de regresión lineal\n",
    "        linear_reg = LinearRegression()\n",
    "        linear_reg.fit(X_train, y_train)\n",
    "        \n",
    "        # Calcular el error cuadrático medio (RMSE) para el modelo de regresión lineal\n",
    "        linear_reg_rmse.append(mean_squared_error(y_test, linear_reg.predict(X_test), squared=False))\n",
    "        \n",
    "        # Entrenar el modelo de árbol de regresión\n",
    "        tree_reg = DecisionTreeRegressor(criterion=criterion)\n",
    "        tree_reg.fit(X_train, y_train)\n",
    "        \n",
    "        # Calcular el error cuadrático medio (RMSE) para el modelo de árbol de regresión\n",
    "        tree_reg_rmse_criterion.append(mean_squared_error(y_test, tree_reg.predict(X_test), squared=False))\n",
    "    \n",
    "    # Calcular el promedio y la desviación estándar del RMSE para el modelo de árbol de regresión con el criterio actual\n",
    "    tree_reg_rmse.append((criterion, np.mean(tree_reg_rmse_criterion), np.std(tree_reg_rmse_criterion)))"
   ]
  },
  {
   "cell_type": "code",
   "execution_count": null,
   "metadata": {},
   "outputs": [],
   "source": [
    "from collections import defaultdict\n",
    "dict = defaultdict(list)\n",
    "dict[\"model\"].append(\"Regresión lineal\")\n",
    "dict[\"mean\"].append(f\"{np.mean(linear_reg_rmse):.2%}\")\n",
    "dict[\"std\"].append(f\"{np.std(linear_reg_rmse):.2%}\")\n",
    "for criterion, mean, std in tree_reg_rmse:\n",
    "    dict[\"model\"].append(f\"Árbol de regresión ({criterion})\")\n",
    "    dict[\"mean\"].append(f\"{mean:.2%}\")\n",
    "    dict[\"std\"].append(f\"{std:.2%}\")\n",
    "\n",
    "df = pd.DataFrame(dict)\n",
    "df"
   ]
  },
  {
   "attachments": {},
   "cell_type": "markdown",
   "metadata": {},
   "source": [
    "Los resultados son bastante parecidos entre sí, siendo que la regresión lineal es la que mejor resultado obtiene (73%) y el Árbol de regresión utilizando el criterio poisson el que peor (70%)."
   ]
  },
  {
   "attachments": {},
   "cell_type": "markdown",
   "metadata": {},
   "source": [
    "# Ejercicio dos"
   ]
  },
  {
   "cell_type": "code",
   "execution_count": null,
   "metadata": {},
   "outputs": [],
   "source": []
  }
 ],
 "metadata": {
  "kernelspec": {
   "display_name": "Python 3",
   "language": "python",
   "name": "python3"
  },
  "language_info": {
   "codemirror_mode": {
    "name": "ipython",
    "version": 3
   },
   "file_extension": ".py",
   "mimetype": "text/x-python",
   "name": "python",
   "nbconvert_exporter": "python",
   "pygments_lexer": "ipython3",
   "version": "3.10.9"
  },
  "vscode": {
   "interpreter": {
    "hash": "e7370f93d1d0cde622a1f8e1c04877d8463912d04d973331ad4851f04de6915a"
   }
  }
 },
 "nbformat": 4,
 "nbformat_minor": 2
}
